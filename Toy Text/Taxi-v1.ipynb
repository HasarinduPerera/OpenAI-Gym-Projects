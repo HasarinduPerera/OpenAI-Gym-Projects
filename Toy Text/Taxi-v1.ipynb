{
 "cells": [
  {
   "cell_type": "code",
   "execution_count": 1,
   "metadata": {
    "colab": {
     "base_uri": "https://localhost:8080/"
    },
    "id": "cyjebRSHnK1F",
    "outputId": "26b7098e-1685-41a4-c072-71ec958f5457"
   },
   "outputs": [],
   "source": [
    "#!pip install gym\n",
    "#!pip install numpy"
   ]
  },
  {
   "cell_type": "code",
   "execution_count": 2,
   "metadata": {},
   "outputs": [],
   "source": [
    "import warnings\n",
    "warnings.filterwarnings('ignore')"
   ]
  },
  {
   "cell_type": "code",
   "execution_count": 3,
   "metadata": {
    "id": "m7As7qh4navx"
   },
   "outputs": [
    {
     "name": "stderr",
     "output_type": "stream",
     "text": [
      "\n"
     ]
    }
   ],
   "source": [
    "import gym                                          \n",
    "import numpy as np                                  \n",
    "import random\n",
    "                   \n",
    "                 \n",
    "from IPython.display import display, clear_output   \n",
    "from time import sleep                              "
   ]
  },
  {
   "cell_type": "code",
   "execution_count": 4,
   "metadata": {
    "id": "VpYHWA95y_QJ"
   },
   "outputs": [],
   "source": [
    "# create Taxi environment\n",
    "env = gym.make('Taxi-v3')"
   ]
  },
  {
   "cell_type": "code",
   "execution_count": 5,
   "metadata": {
    "id": "mNlV-YvdnlOH"
   },
   "outputs": [
    {
     "name": "stdout",
     "output_type": "stream",
     "text": [
      "Initial state: 312\n"
     ]
    }
   ],
   "source": [
    "# create a new instance of taxi, and get the initial state\n",
    "state = env.reset()\n",
    "\n",
    "print(f\"Initial state: {state}\")"
   ]
  },
  {
   "cell_type": "code",
   "execution_count": 6,
   "metadata": {
    "id": "aycxOXzQnoLU"
   },
   "outputs": [
    {
     "name": "stdout",
     "output_type": "stream",
     "text": [
      "step: 99 out of 99\n",
      "+---------+\n",
      "|\u001b[35mR\u001b[0m: | : :G|\n",
      "| : | : : |\n",
      "| :\u001b[43m \u001b[0m: : : |\n",
      "| | : | : |\n",
      "|Y| : |\u001b[34;1mB\u001b[0m: |\n",
      "+---------+\n",
      "  (Pickup)\n"
     ]
    }
   ],
   "source": [
    "num_steps = 99\n",
    "for s in range(num_steps+1):\n",
    "\n",
    "    clear_output(wait=True) \n",
    "\n",
    "    print(f\"step: {s} out of {num_steps}\")\n",
    "\n",
    "    # sample a random action from the list of available actions\n",
    "    action = env.action_space.sample()\n",
    "\n",
    "    # perform this action on the environment\n",
    "    env.step(action)\n",
    "\n",
    "    # print the new state\n",
    "    env.render()\n",
    "\n",
    "    sleep(0.2)\n",
    "\n",
    "# end this instance of the taxi environment\n",
    "env.close()"
   ]
  },
  {
   "cell_type": "code",
   "execution_count": 7,
   "metadata": {
    "id": "BVvgYgquUKBg"
   },
   "outputs": [
    {
     "name": "stdout",
     "output_type": "stream",
     "text": [
      "Q table: [[0. 0. 0. 0. 0. 0.]\n",
      " [0. 0. 0. 0. 0. 0.]\n",
      " [0. 0. 0. 0. 0. 0.]\n",
      " ...\n",
      " [0. 0. 0. 0. 0. 0.]\n",
      " [0. 0. 0. 0. 0. 0.]\n",
      " [0. 0. 0. 0. 0. 0.]]\n"
     ]
    }
   ],
   "source": [
    "state_size = env.observation_space.n  # total number of states (S)\n",
    "action_size = env.action_space.n      # total number of actions (A)\n",
    "\n",
    "# initialize a qtable with 0's for all Q-values\n",
    "qtable = np.zeros((state_size, action_size))\n",
    "\n",
    "print(f\"Q table: {qtable}\")"
   ]
  },
  {
   "cell_type": "code",
   "execution_count": 8,
   "metadata": {
    "id": "XsOWYTX4VsDz"
   },
   "outputs": [
    {
     "name": "stdout",
     "output_type": "stream",
     "text": [
      "Q-value for (state, action) pair (54, 3): 9.0\n"
     ]
    }
   ],
   "source": [
    "# hyperparameters to tune\n",
    "learning_rate = 0.9\n",
    "discount_rate = 0.8\n",
    "\n",
    "# dummy variables\n",
    "reward = 10 # R_(t+1)\n",
    "state = env.observation_space.sample()      # S_t\n",
    "action = env.action_space.sample()          # A_t\n",
    "new_state = env.observation_space.sample()  # S_(t+1)\n",
    "\n",
    "# Qlearning algorithm: Q(s,a) := Q(s,a) + learning_rate * (reward + discount_rate * max Q(s',a') - Q(s,a))\n",
    "qtable[state, action] += learning_rate * (reward + discount_rate * np.max(qtable[new_state,:]) - qtable[state,action])\n",
    "\n",
    "print(f\"Q-value for (state, action) pair ({state}, {action}): {qtable[state,action]}\")"
   ]
  },
  {
   "cell_type": "code",
   "execution_count": 9,
   "metadata": {
    "id": "3aorBEvYdSLr"
   },
   "outputs": [],
   "source": [
    "# dummy variables\n",
    "episode = random.randint(0,500)\n",
    "qtable = np.random.randn(env.observation_space.sample(), env.action_space.sample())\n",
    "\n",
    "# hyperparameters\n",
    "epsilon = 1.0     # probability that our agent will explore\n",
    "decay_rate = 0.01 # of epsilon\n",
    "\n",
    "if random.uniform(0,1) < epsilon:\n",
    "    # explore\n",
    "    action = env.action_space.sample()\n",
    "else:\n",
    "    # exploit\n",
    "    action = np.argmax(qtable[state,:])\n",
    "\n",
    "# epsilon decreases exponentially --> our agent will explore less and less\n",
    "epsilon = np.exp(-decay_rate*episode)"
   ]
  },
  {
   "cell_type": "code",
   "execution_count": 10,
   "metadata": {
    "id": "SiXAK2OdpteR"
   },
   "outputs": [
    {
     "name": "stdout",
     "output_type": "stream",
     "text": [
      "TRAINED AGENT\n",
      "+++++EPISODE 9+++++\n",
      "Step 12\n",
      "+---------+\n",
      "|R: | : :G|\n",
      "| : | : : |\n",
      "| : : : : |\n",
      "| | : | : |\n",
      "|Y| : |\u001b[35m\u001b[34;1m\u001b[43mB\u001b[0m\u001b[0m\u001b[0m: |\n",
      "+---------+\n",
      "  (Dropoff)\n",
      "\n",
      "Score: \u001b[32m9\u001b[0m\n"
     ]
    }
   ],
   "source": [
    "class bcolors:\n",
    "    RED= '\\u001b[31m'\n",
    "    GREEN= '\\u001b[32m'\n",
    "    RESET= '\\u001b[0m'\n",
    "\n",
    "# create Taxi environment\n",
    "env = gym.make('Taxi-v3')\n",
    "\n",
    "# initialize q-table\n",
    "state_size = env.observation_space.n\n",
    "action_size = env.action_space.n\n",
    "qtable = np.zeros((state_size, action_size))\n",
    "\n",
    "# hyperparameters\n",
    "learning_rate = 0.9\n",
    "discount_rate = 0.8\n",
    "epsilon = 1.0\n",
    "decay_rate= 0.005\n",
    "\n",
    "# training variables\n",
    "num_episodes = 2000\n",
    "max_steps = 99 # per episode\n",
    "\n",
    "print(\"AGENT IS TRAINING...\")\n",
    "\n",
    "for episode in range(num_episodes):\n",
    "\n",
    "\t# Reset the environment\n",
    "\tstate = env.reset()\n",
    "\tstep = 0\n",
    "\tdone = False\n",
    "    \n",
    "\tfor step in range(max_steps):\n",
    "\n",
    "\t\t# Exploration-exploitation tradeoff\n",
    "\t\tif random.uniform(0,1) < epsilon:\n",
    "\t\t\t# Explore\n",
    "\t\t\taction = env.action_space.sample()\n",
    "\t\telse:\n",
    "\t\t\t# Exploit\n",
    "\t\t\taction = np.argmax(qtable[state,:])\n",
    "\n",
    "\t\t# Take an action and observe the reward\n",
    "\t\tnew_state, reward, done, info = env.step(action)\n",
    "\n",
    "\t\t# Q-learning algorithm\n",
    "\t\tqtable[state,action] = qtable[state,action] + learning_rate * (reward + discount_rate * np.max(qtable[new_state,:])-qtable[state,action])\n",
    "\n",
    "\t\t# Update to our new state\n",
    "\t\tstate = new_state\n",
    "\n",
    "\t\t# if done, finish episode\n",
    "\t\tif done == True:\n",
    "\t\t\tbreak\n",
    "\n",
    "\t# Decrease epsilon\n",
    "\tepsilon = np.exp(-decay_rate*episode)\n",
    "\t\n",
    "# Get ready to watch our trained agent\n",
    "clear_output()\n",
    "print(f\"Our Q-table: {qtable}\")\n",
    "print(f\"Training completed over {num_episodes} episodes\")\n",
    "input(\"Press Enter to see our trained taxi agent\")\n",
    "sleep(1)\n",
    "clear_output()  \n",
    "\n",
    "episodes_to_preview = 9\n",
    "for episode in range(episodes_to_preview):\n",
    "\n",
    "\t# Reset the environment\n",
    "\tstate = env.reset()\n",
    "\tstep = 0\n",
    "\tdone = False\n",
    "\tepisode_rewards = 0\n",
    "\n",
    "\tfor step in range(max_steps):\n",
    "\t\t# clear screen\n",
    "\t\tclear_output(wait=True)\n",
    "\n",
    "\t\tprint(f\"TRAINED AGENT\")\n",
    "\t\tprint(f\"+++++EPISODE {episode+1}+++++\")\n",
    "\t\tprint(f\"Step {step+1}\")\n",
    "\n",
    "\t\t# Exploit\n",
    "\t\taction = np.argmax(qtable[state,:])\n",
    "\n",
    "\t\t# Take an action and observe the reward\n",
    "\t\tnew_state, reward, done, info = env.step(action)\n",
    "\n",
    "\t\t# Accumulate our rewards    \n",
    "\t\tepisode_rewards += reward\n",
    "\n",
    "\t\tenv.render()\n",
    "\t\tprint(\"\")\n",
    "\t\tif episode_rewards < 0:\n",
    "\t\t\tprint(f\"Score: {bcolors.RED}{episode_rewards}{bcolors.RESET}\")\n",
    "\t\telse:\n",
    "\t\t\tprint(f\"Score: {bcolors.GREEN}{episode_rewards}{bcolors.RESET}\")\n",
    "\t\tsleep(0.5)   \n",
    "\t\t    \n",
    "\t\t# Update to our new state\n",
    "\t\tstate = new_state\n",
    "\n",
    "\t\t# if done, finish episode\n",
    "\t\tif done == True:\n",
    "\t\t\tbreak  \n",
    "\n",
    "# Close the Taxi environment\n",
    "env.close()"
   ]
  }
 ],
 "metadata": {
  "colab": {
   "collapsed_sections": [],
   "name": "openai_gym_taxi_tutorial.ipynb",
   "provenance": []
  },
  "kernelspec": {
   "display_name": "ml-refresher",
   "language": "python",
   "name": "ml-refresher"
  },
  "language_info": {
   "codemirror_mode": {
    "name": "ipython",
    "version": 3
   },
   "file_extension": ".py",
   "mimetype": "text/x-python",
   "name": "python",
   "nbconvert_exporter": "python",
   "pygments_lexer": "ipython3",
   "version": "3.8.12"
  }
 },
 "nbformat": 4,
 "nbformat_minor": 4
}
