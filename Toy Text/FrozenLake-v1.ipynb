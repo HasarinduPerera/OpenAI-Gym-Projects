{
 "cells": [
  {
   "cell_type": "code",
   "execution_count": 1,
   "id": "f471cc6b-036d-4978-894d-cce8b041015c",
   "metadata": {
    "colab": {
     "base_uri": "https://localhost:8080/"
    },
    "id": "cyjebRSHnK1F",
    "outputId": "26b7098e-1685-41a4-c072-71ec958f5457"
   },
   "outputs": [],
   "source": [
    "#!pip install gym\n",
    "#!pip install numpy"
   ]
  },
  {
   "cell_type": "code",
   "execution_count": 2,
   "id": "71d56df9-eaeb-43a3-85f6-b8961c97c350",
   "metadata": {},
   "outputs": [],
   "source": [
    "import warnings\n",
    "warnings.filterwarnings('ignore')"
   ]
  },
  {
   "cell_type": "code",
   "execution_count": 3,
   "id": "e99af649-2304-4528-8d45-c6c7a5a5373f",
   "metadata": {
    "id": "m7As7qh4navx"
   },
   "outputs": [
    {
     "name": "stderr",
     "output_type": "stream",
     "text": [
      "\n"
     ]
    }
   ],
   "source": [
    "import gym                                          \n",
    "import numpy as np                                  \n",
    "import random\n",
    "                   \n",
    "                 \n",
    "from IPython.display import display, clear_output   \n",
    "from time import sleep                              "
   ]
  },
  {
   "cell_type": "code",
   "execution_count": 4,
   "id": "29239b65-cc58-4103-b7d4-ed7987e5c74c",
   "metadata": {
    "id": "VpYHWA95y_QJ"
   },
   "outputs": [],
   "source": [
    "# create FrozenLake environment\n",
    "env = gym.make('FrozenLake-v1', desc=None, map_name=\"4x4\", is_slippery=False)\n"
   ]
  },
  {
   "cell_type": "code",
   "execution_count": 5,
   "id": "1cd7def8-6946-4b0e-9a08-9b06820e97fd",
   "metadata": {
    "id": "mNlV-YvdnlOH"
   },
   "outputs": [
    {
     "name": "stdout",
     "output_type": "stream",
     "text": [
      "Initial state: 0\n"
     ]
    }
   ],
   "source": [
    "# create a new instance, and get the initial state\n",
    "state = env.reset()\n",
    "\n",
    "print(f\"Initial state: {state}\")"
   ]
  },
  {
   "cell_type": "code",
   "execution_count": 6,
   "id": "be35a3f2-e06f-4126-81e9-ae476a7158d5",
   "metadata": {
    "id": "aycxOXzQnoLU"
   },
   "outputs": [
    {
     "name": "stdout",
     "output_type": "stream",
     "text": [
      "step: 0 out of 10\n",
      "step: 1 out of 10\n",
      "step: 2 out of 10\n",
      "step: 3 out of 10\n",
      "step: 4 out of 10\n",
      "step: 5 out of 10\n",
      "step: 6 out of 10\n",
      "step: 7 out of 10\n",
      "step: 8 out of 10\n",
      "step: 9 out of 10\n",
      "step: 10 out of 10\n"
     ]
    }
   ],
   "source": [
    "num_steps = 10\n",
    "for s in range(num_steps+1):\n",
    "\n",
    "    #clear_output(wait=True) \n",
    "\n",
    "    print(f\"step: {s} out of {num_steps}\")\n",
    "\n",
    "    # sample a random action from the list of available actions\n",
    "    action = env.action_space.sample()\n",
    "\n",
    "    # perform this action on the environment\n",
    "    env.step(action)\n",
    "\n",
    "    # print the new state\n",
    "    env.render()\n",
    "\n",
    "    sleep(0.2)\n",
    "\n",
    "# end this instance of the FrozenLake environment\n",
    "env.close()"
   ]
  },
  {
   "cell_type": "code",
   "execution_count": 7,
   "id": "269c9475-1f49-46c5-b607-2f7658bd3cfa",
   "metadata": {
    "id": "BVvgYgquUKBg"
   },
   "outputs": [
    {
     "name": "stdout",
     "output_type": "stream",
     "text": [
      "Q table: [[0. 0. 0. 0.]\n",
      " [0. 0. 0. 0.]\n",
      " [0. 0. 0. 0.]\n",
      " [0. 0. 0. 0.]\n",
      " [0. 0. 0. 0.]\n",
      " [0. 0. 0. 0.]\n",
      " [0. 0. 0. 0.]\n",
      " [0. 0. 0. 0.]\n",
      " [0. 0. 0. 0.]\n",
      " [0. 0. 0. 0.]\n",
      " [0. 0. 0. 0.]\n",
      " [0. 0. 0. 0.]\n",
      " [0. 0. 0. 0.]\n",
      " [0. 0. 0. 0.]\n",
      " [0. 0. 0. 0.]\n",
      " [0. 0. 0. 0.]]\n"
     ]
    }
   ],
   "source": [
    "state_size = env.observation_space.n  # total number of states (S)\n",
    "action_size = env.action_space.n      # total number of actions (A)\n",
    "\n",
    "# initialize a qtable with 0's for all Q-values\n",
    "qtable = np.zeros((state_size, action_size))\n",
    "\n",
    "print(f\"Q table: {qtable}\")"
   ]
  },
  {
   "cell_type": "code",
   "execution_count": 8,
   "id": "75aeba94-93c4-48bd-854b-8461dec41f6c",
   "metadata": {
    "id": "XsOWYTX4VsDz"
   },
   "outputs": [
    {
     "name": "stdout",
     "output_type": "stream",
     "text": [
      "Q-value for (state, action) pair (15, 3): 9.0\n"
     ]
    }
   ],
   "source": [
    "# hyperparameters to tune\n",
    "learning_rate = 0.9\n",
    "discount_rate = 0.8\n",
    "\n",
    "# dummy variables\n",
    "reward = 10 # R_(t+1)\n",
    "state = env.observation_space.sample()      # S_t\n",
    "action = env.action_space.sample()          # A_t\n",
    "new_state = env.observation_space.sample()  # S_(t+1)\n",
    "\n",
    "# Qlearning algorithm: Q(s,a) := Q(s,a) + learning_rate * (reward + discount_rate * max Q(s',a') - Q(s,a))\n",
    "qtable[state, action] += learning_rate * (reward + discount_rate * np.max(qtable[new_state,:]) - qtable[state,action])\n",
    "\n",
    "print(f\"Q-value for (state, action) pair ({state}, {action}): {qtable[state,action]}\")"
   ]
  },
  {
   "cell_type": "code",
   "execution_count": 9,
   "id": "536f4e87-b523-4c6a-8b03-dc92b22ca857",
   "metadata": {
    "id": "3aorBEvYdSLr"
   },
   "outputs": [],
   "source": [
    "# dummy variables\n",
    "episode = random.randint(0,500)\n",
    "qtable = np.random.randn(env.observation_space.sample(), env.action_space.sample())\n",
    "\n",
    "# hyperparameters\n",
    "epsilon = 1.0     # probability that our agent will explore\n",
    "decay_rate = 0.01 # of epsilon\n",
    "\n",
    "if random.uniform(0,1) < epsilon:\n",
    "    # explore\n",
    "    action = env.action_space.sample()\n",
    "else:\n",
    "    # exploit\n",
    "    action = np.argmax(qtable[state,:])\n",
    "\n",
    "# epsilon decreases exponentially --> our agent will explore less and less\n",
    "epsilon = np.exp(-decay_rate*episode)"
   ]
  },
  {
   "cell_type": "code",
   "execution_count": 10,
   "id": "cedc5fe6-76be-4db9-ac2d-b1eefa3c3203",
   "metadata": {
    "id": "SiXAK2OdpteR"
   },
   "outputs": [
    {
     "name": "stdout",
     "output_type": "stream",
     "text": [
      "Our Q-table: [[0.262144   0.32768    0.32768    0.262144  ]\n",
      " [0.262144   0.         0.4096     0.32768   ]\n",
      " [0.32768    0.512      0.32768    0.4096    ]\n",
      " [0.4096     0.         0.32768    0.32768   ]\n",
      " [0.32768    0.4096     0.         0.262144  ]\n",
      " [0.         0.         0.         0.        ]\n",
      " [0.         0.64       0.         0.4096    ]\n",
      " [0.         0.         0.         0.        ]\n",
      " [0.4096     0.         0.512      0.32768   ]\n",
      " [0.4096     0.64       0.64       0.        ]\n",
      " [0.512      0.8        0.         0.512     ]\n",
      " [0.         0.         0.         0.        ]\n",
      " [0.         0.         0.         0.        ]\n",
      " [0.         0.63998146 0.8        0.51199475]\n",
      " [0.64       0.8        1.         0.64      ]\n",
      " [0.         0.         0.         0.        ]]\n"
     ]
    }
   ],
   "source": [
    "class bcolors:\n",
    "    RED= '\\u001b[31m'\n",
    "    GREEN= '\\u001b[32m'\n",
    "    RESET= '\\u001b[0m'\n",
    "\n",
    "# create FrozenLake environment\n",
    "env = gym.make('FrozenLake-v1', desc=None, map_name=\"4x4\", is_slippery=False)\n",
    "\n",
    "# initialize q-table\n",
    "state_size = env.observation_space.n\n",
    "action_size = env.action_space.n\n",
    "qtable = np.zeros((state_size, action_size))\n",
    "\n",
    "# hyperparameters\n",
    "learning_rate = 0.9\n",
    "discount_rate = 0.8\n",
    "epsilon = 1.0\n",
    "decay_rate= 0.005\n",
    "\n",
    "# training variables\n",
    "num_episodes = 2000\n",
    "max_steps = 30 # per episode\n",
    "\n",
    "print(\"AGENT IS TRAINING...\")\n",
    "\n",
    "for episode in range(num_episodes):\n",
    "\n",
    "\t# Reset the environment\n",
    "\tstate = env.reset()\n",
    "\tstep = 0\n",
    "\tdone = False\n",
    "    \n",
    "\tfor step in range(max_steps):\n",
    "\n",
    "\t\t# Exploration-exploitation tradeoff\n",
    "\t\tif random.uniform(0,1) < epsilon:\n",
    "\t\t\t# Explore\n",
    "\t\t\taction = env.action_space.sample()\n",
    "\t\telse:\n",
    "\t\t\t# Exploit\n",
    "\t\t\taction = np.argmax(qtable[state,:])\n",
    "\n",
    "\t\t# Take an action and observe the reward\n",
    "\t\tnew_state, reward, done, info = env.step(action)\n",
    "\n",
    "\t\t# Q-learning algorithm\n",
    "\t\tqtable[state,action] = qtable[state,action] + learning_rate * (reward + discount_rate * np.max(qtable[new_state,:])-qtable[state,action])\n",
    "\n",
    "\t\t# Update to our new state\n",
    "\t\tstate = new_state\n",
    "\n",
    "\t\t# if done, finish episode\n",
    "\t\tif done == True:\n",
    "\t\t\tbreak\n",
    "\n",
    "\t# Decrease epsilon\n",
    "\tepsilon = np.exp(-decay_rate*episode)\n",
    "\t\n",
    "# Get ready to watch our trained agent\n",
    "clear_output()\n",
    "print(f\"Our Q-table: {qtable}\")"
   ]
  },
  {
   "cell_type": "code",
   "execution_count": 11,
   "id": "42f74d09-af7d-4bbd-aac4-f1cbfd4a6c23",
   "metadata": {},
   "outputs": [
    {
     "name": "stdout",
     "output_type": "stream",
     "text": [
      "TRAINED AGENT\n",
      "+++++EPISODE 3+++++\n",
      "Step 6\n",
      "\n",
      "Score: \u001b[32m1.0\u001b[0m\n"
     ]
    }
   ],
   "source": [
    "print(f\"Training completed over {num_episodes} episodes\")\n",
    "input(\"Press Enter to see our trained taxi agent\")\n",
    "sleep(1)\n",
    "clear_output()  \n",
    "\n",
    "episodes_to_preview = 3\n",
    "for episode in range(episodes_to_preview):\n",
    "\n",
    "\t# Reset the environment\n",
    "\tstate = env.reset()\n",
    "\tstep = 0\n",
    "\tdone = False\n",
    "\tepisode_rewards = 0\n",
    "\n",
    "\tfor step in range(max_steps):\n",
    "\t\t# clear screen\n",
    "\t\tclear_output(wait=True)\n",
    "\n",
    "\t\tprint(f\"TRAINED AGENT\")\n",
    "\t\tprint(f\"+++++EPISODE {episode+1}+++++\")\n",
    "\t\tprint(f\"Step {step+1}\")\n",
    "\n",
    "\t\t# Exploit\n",
    "\t\taction = np.argmax(qtable[state,:])\n",
    "\n",
    "\t\t# Take an action and observe the reward\n",
    "\t\tnew_state, reward, done, info = env.step(action)\n",
    "\n",
    "\t\t# Accumulate our rewards    \n",
    "\t\tepisode_rewards += reward\n",
    "\n",
    "\t\tenv.render()\n",
    "\t\tprint(\"\")\n",
    "\t\tif episode_rewards < 0:\n",
    "\t\t\tprint(f\"Score: {bcolors.RED}{episode_rewards}{bcolors.RESET}\")\n",
    "\t\telse:\n",
    "\t\t\tprint(f\"Score: {bcolors.GREEN}{episode_rewards}{bcolors.RESET}\")\n",
    "\t\tsleep(0.5)   \n",
    "\t\t    \n",
    "\t\t# Update to our new state\n",
    "\t\tstate = new_state\n",
    "\n",
    "\t\t# if done, finish episode\n",
    "\t\tif done == True:\n",
    "\t\t\tbreak  \n",
    "\n",
    "# Close the FrozenLake environment\n",
    "env.close()"
   ]
  }
 ],
 "metadata": {
  "kernelspec": {
   "display_name": "ml-refresher",
   "language": "python",
   "name": "ml-refresher"
  },
  "language_info": {
   "codemirror_mode": {
    "name": "ipython",
    "version": 3
   },
   "file_extension": ".py",
   "mimetype": "text/x-python",
   "name": "python",
   "nbconvert_exporter": "python",
   "pygments_lexer": "ipython3",
   "version": "3.8.12"
  }
 },
 "nbformat": 4,
 "nbformat_minor": 5
}
